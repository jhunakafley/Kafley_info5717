{
 "cells": [
  {
   "cell_type": "markdown",
   "metadata": {},
   "source": [
    "Question No. 1"
   ]
  },
  {
   "cell_type": "code",
   "execution_count": 1,
   "metadata": {},
   "outputs": [
    {
     "name": "stdout",
     "output_type": "stream",
     "text": [
      "r V\n",
      "1 4.1887902047863905\n",
      "2 33.510321638291124\n",
      "3 113.09733552923254\n",
      "4 268.082573106329\n",
      "5 523.5987755982989\n",
      "6 904.7786842338603\n",
      "7 1436.7550402417319\n",
      "8 2144.660584850632\n",
      "9 3053.6280592892786\n",
      "10 4188.790204786391\n"
     ]
    }
   ],
   "source": [
    "import math\n",
    "def volume_calculation(radius):\n",
    "    volume = (4/3)*math.pi*(radius*radius*radius)  \n",
    "    return volume\n",
    "\n",
    "print(\"r\",\"V\")\n",
    "\n",
    "for r in range(1, 11):\n",
    "    print(r, volume_calculation(r))\n"
   ]
  },
  {
   "cell_type": "markdown",
   "metadata": {},
   "source": [
    "Question No. 2 (2.1,2.2 & 2.3)"
   ]
  },
  {
   "cell_type": "code",
   "execution_count": 4,
   "metadata": {},
   "outputs": [
    {
     "name": "stdout",
     "output_type": "stream",
     "text": [
      "Enter a word:fatigue\n",
      "Sentence = Within half hour of taking this drug I suffered from excessive cramping.\n",
      "lasted 1/2 hour and continued sporatically over course of several hours.\n",
      "Became tired,fatigue,shortness of breath from pain, dizzy,nausea, unconsolable.\n",
      "went hospital, but sat 5 hours never seen by doctor.\n",
      "drug wore off on its own and went home to rest.\n",
      "Threw away the remaining pills.\n",
      "Should be removed from market.\n",
      "\n",
      "Sentence ID = ARTHROTEC.23_22.txt\n",
      "Count of word is =  0\n",
      "\\z\n",
      "Sentence = Stomach pains, chest pains, anxiety, fatigue, headache, erratic heart beat, raised blood pressure, dizziness, nausea (even when taken with food), blurred vision.\n",
      "I was given a 6 day trial of Arthrotec along with a 9 day trial of Aciphex on 4/25 (three bottles of three pills).\n",
      "This was a solution my doctor came up with.\n",
      "I've never had consistant heart burn or indigestion, no signs of acid reflux, so I was confused as to why he would offer me this medication.\n",
      "The first day I took both pills, I experienced some dizziness and some nausea and some serious period like cramps.\n",
      "I was at work, so I just had to brush it off.\n",
      "It continued each time I took it.\n",
      "After about two days (two doses), the cramps continued and began inhibiting my menstrual cycle (which I was due to start).\n",
      "So, I googled the side effects of the drug, came across this site, and realized I wasn't the only one with those side effects, so I felt a little better about it.\n",
      "On the evening of 4/30, I suddenly got some serious chest pains, an elevated heart rate (I was laying down with my husband and this was similar to an \"I just finished running!\" heart rate), hot flashes, dizziness, sever stomach cramps, and weakness in my legs.\n",
      "I literally thought I was dying.\n",
      "It passed within 45 minutes and I was able to go to work the next day.\n",
      "At work (5/1), I was sitting at my desk and the same thing happened.\n",
      "I stepped out to get some air but it didn't work.\n",
      "A friend at work had to call an ambulance.\n",
      "I was filled in by the ER doc that the mixture of Aciphex and Arthrotec was insane and that he was trying to keep from cracking up at my primary doc's decision to combine them.\n",
      "\n",
      "Sentence ID = ARTHROTEC.42_41.txt\n",
      "Count of word is =  0\n",
      "\\z\n",
      "Sentence = Extremely heavy menstral cycles, fatigue, slow healing & clotting.\n",
      "If I miss a day, headaches begin to creep in.\n",
      "Tried many others, this seemed to work best for quite some time.\n",
      "No day is pain free, though.\n",
      "Not bad on stomach - always take w/ milk or food.\n",
      "This is genetic for me, so NSAIDs will be in my life for a while.\n",
      "but fear long-term use of this one.\n",
      "\n",
      "Sentence ID = ARTHROTEC.93_92.txt\n",
      "Count of word is =  0\n",
      "\\z\n"
     ]
    }
   ],
   "source": [
    "import os\n",
    "import csv\n",
    "from itertools import zip_longest\n",
    "\n",
    "cwd = os.getcwd()\n",
    "col1 = []\n",
    "col2 = []\n",
    "col3 = []\n",
    "z = 0\n",
    "for a in range(1,100):\n",
    "    path = 'C:/Assignment 2 data collection/Assignment 2 data collection/ARTHROTEC.{}.txt'.format(a) \n",
    "    with open(path, 'r') as content_file:\n",
    "        content = content_file.read()\n",
    "    for cont in content.split('\\z'):\n",
    "        col1.append('ARTHROTEC.{}'.format(a) + '_'+str(z)+'.txt')\n",
    "        col2.append(cont)\n",
    "        col3.append(''.join(e for e in cont if e.isalnum()))\n",
    "        z += 1\n",
    "\n",
    "file = [col1, col2, col3]\n",
    "\n",
    "export_data = zip_longest(*file, fillvalue = '')\n",
    "with open('yieldarthrotecfiles.csv', 'w', encoding=\"ISO-8859-1\", newline='') as resultfile:\n",
    "      wr = csv.writer(resultfile)\n",
    "      wr.writerow((\"Sentence ID\", \"Sentence text content\", \"No Punctuation\"))\n",
    "      wr.writerows(export_data)\n",
    "resultfile.close()\n",
    "\n",
    "b = input('Enter a word:');\n",
    "for Str in col2:\n",
    "    Str.split()\n",
    "    if b in Str:\n",
    "        print('Sentence = ' + Str)\n",
    "        print('Sentence ID = ' + col1[col2.index(Str)])\n",
    "        print('Count of word is = ', sum(b == col2 for col2 in Str.split()))\n",
    "        print('\\z')"
   ]
  },
  {
   "cell_type": "raw",
   "metadata": {},
   "source": [
    "Question 3.1"
   ]
  },
  {
   "cell_type": "code",
   "execution_count": 27,
   "metadata": {},
   "outputs": [],
   "source": [
    "path = ('C:/Assignment2_denton_housing.csv') \n",
    "import pandas\n",
    "colnames = ['year', 'title_field', 'value']\n",
    "data = pandas.read_csv(path, names=colnames)"
   ]
  },
  {
   "cell_type": "code",
   "execution_count": 28,
   "metadata": {},
   "outputs": [],
   "source": [
    "years = list(data['year'])[1:]\n",
    "years = [ int(y) for y in years ]\n",
    "values = list(data['value'])[1:]\n",
    "values = [ int(y) for y in values ]"
   ]
  },
  {
   "cell_type": "code",
   "execution_count": 29,
   "metadata": {},
   "outputs": [
    {
     "name": "stdout",
     "output_type": "stream",
     "text": [
      "[303, 795, 1404, 1565, 2622, 5091]\n"
     ]
    }
   ],
   "source": [
    "vals = []\n",
    "vac = []\n",
    "occ = []\n",
    "for d in set(years):\n",
    "    vals.append(values[years.index(d)])\n",
    "    vac.append(values[years.index(d) +1])\n",
    "    occ.append(values[years.index(d) +2])\n",
    "    diff = [abs(m-n) for n, m in zip(occ[:-1], occ[1:])]\n",
    "diff.sort()\n",
    "print(diff)\n"
   ]
  },
  {
   "cell_type": "raw",
   "metadata": {},
   "source": [
    "Question 3.2"
   ]
  },
  {
   "cell_type": "code",
   "execution_count": 30,
   "metadata": {},
   "outputs": [
    {
     "name": "stdout",
     "output_type": "stream",
     "text": [
      "Year   Vacant  Occupied    \n",
      "2008    11 %       89 %    \n",
      "2009    9 %       91 %    \n",
      "2010    8 %       92 %    \n",
      "2011    9 %       91 %    \n",
      "2012    7 %       93 %    \n",
      "2013    9 %       91 %    \n",
      "2014    6 %       94 %    \n"
     ]
    }
   ],
   "source": [
    "print('Year   '  + 'Vacant  ' + 'Occupied    ')\n",
    "for d in range(0, len(vals)):\n",
    "    m, n, t, u = vals[d], vac[d], occ[d], list(set(years))[d]\n",
    "    print('{}    '.format(round(u))  + '{} %       '.format(round(n*100/m)) + '{} %    '.format(round(t*100/m)))\n"
   ]
  },
  {
   "cell_type": "raw",
   "metadata": {},
   "source": [
    "Question 3.3"
   ]
  },
  {
   "cell_type": "code",
   "execution_count": 31,
   "metadata": {},
   "outputs": [
    {
     "name": "stdout",
     "output_type": "stream",
     "text": [
      "                         Year      Value    \n",
      "Vacant Housing Units     2008      4483\n",
      "Occupied Housing Units   2014      46295\n"
     ]
    }
   ],
   "source": [
    "print('                         '  + 'Year      ' + 'Value    ')\n",
    "maxVac = max(vac)\n",
    "maxOcc = max(occ) \n",
    "print('Vacant Housing Units     ' + '{}      '.format(list(set(years))[vac.index(max(vac))]) + '{}'.format(maxVac))\n",
    "print('Occupied Housing Units   ' + '{}      '.format(list(set(years))[occ.index(max(occ))]) + '{}'.format(maxOcc))\n"
   ]
  },
  {
   "cell_type": "raw",
   "metadata": {},
   "source": [
    "Question 3.4"
   ]
  },
  {
   "cell_type": "code",
   "execution_count": 32,
   "metadata": {},
   "outputs": [
    {
     "data": {
      "text/plain": [
       "44398.28543969185"
      ]
     },
     "execution_count": 32,
     "metadata": {},
     "output_type": "execute_result"
    }
   ],
   "source": [
    "lis = []\n",
    "q = len(vals)\n",
    "for p in vals:\n",
    "    lis.append(1/p)\n",
    "har_M = q*(sum(lis))**(-1)\n",
    "har_M"
   ]
  }
 ],
 "metadata": {
  "kernelspec": {
   "display_name": "Python 3",
   "language": "python",
   "name": "python3"
  },
  "language_info": {
   "codemirror_mode": {
    "name": "ipython",
    "version": 3
   },
   "file_extension": ".py",
   "mimetype": "text/x-python",
   "name": "python",
   "nbconvert_exporter": "python",
   "pygments_lexer": "ipython3",
   "version": "3.7.3"
  }
 },
 "nbformat": 4,
 "nbformat_minor": 2
}
