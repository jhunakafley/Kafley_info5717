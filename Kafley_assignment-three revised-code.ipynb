{
 "cells": [
  {
   "cell_type": "raw",
   "metadata": {},
   "source": [
    "Assignment 3-New"
   ]
  },
  {
   "cell_type": "markdown",
   "metadata": {},
   "source": [
    "Question # 1"
   ]
  },
  {
   "cell_type": "code",
   "execution_count": 8,
   "metadata": {
    "scrolled": true
   },
   "outputs": [
    {
     "name": "stdout",
     "output_type": "stream",
     "text": [
      "Enter first year: 1981\n",
      "Enter last year: 1985\n",
      " \n",
      " * Books published from 1981 to 1985 * \n",
      "\n",
      "...and Ladies of the Club\tHelen Hooven Santmeyer\tPutnam\t7/8/1984\tFiction\n",
      "An Indecent Obsession\tColleen McCullough\tHarper\t11/15/1981\tFiction\n",
      "Cider House Rules\tJohn Irving\tMorrow\t6/16/1985\tFiction\n",
      "Cujo\tStephen King\tViking\t8/23/1981\tFiction\n",
      "Different Seasons\tStephen King\tViking\t8/15/1982\tFiction\n",
      "Family Album\tDanielle Steel\tDelacorte\t3/31/1985\tFiction\n",
      "First Among Equals\tJeffrey Archer\tLinden Press\t8/26/1984\tFiction\n",
      "Full Circle\tDanielle Steel\tDelacorte\t6/3/1984\tFiction\n",
      "Gorky Park\tMartin Cruz Smith\tRandom House\t4/26/1981\tFiction\n",
      "Hold the Dream\tBarbara Taylor Bradford\tDoubleday\t6/9/1985\tFiction\n",
      "If Tomorrow Comes\tSidney Sheldon\tMorrow\t2/3/1985\tFiction\n",
      "Lake Wobegon Days\tGarrison Keillor\tViking\t9/15/1985\tFiction\n",
      "Lucky\tJackie Collins\tSimon & Schuster\t9/1/1985\tFiction\n",
      "Master of the Game\tSidney Sheldon\tMorrow\t9/12/1982\tFiction\n",
      "Mistral's Daughter\tJudith Krantz\tBantam\t2/20/1983\tFiction\n",
      "Noble House\tJames Clavell\tDelacorte\t5/10/1981\tFiction\n",
      "North and South\tJohn Jakes\tHarcourt\t2/28/1982\tFiction\n",
      "Pet Sematary\tStephen King\tDoubleday\t11/13/1983\tFiction\n",
      "Poland\tJames Michener\tRandom House\t9/11/1983\tFiction\n",
      "Skeleton Crew\tStephen King\tPutnam\t6/23/1985\tFiction\n",
      "Space\tJames Michener\tRandom House\t10/10/1982\tFiction\n",
      "Texas\tJames Michener\tRandom House\t10/13/1985\tFiction\n",
      "The Aquitaine Progression\tRobert Ludlum\tRandom House\t3/11/1984\tFiction\n",
      "The Fourth Protocol\tFrederick Forsyth\tViking\t9/16/1984\tFiction\n",
      "The Hotel New Hampshire\tJohn Irving\tDutton\t9/27/1981\tFiction\n",
      "The Little Drummer Girl\tJohn le Carre\tKnopf\t3/20/1983\tFiction\n",
      "The Mammoth Hunters\tJean M. Auel\tCrown\t11/24/1985\tFiction\n",
      "The Name of the Rose\tUmberto Eco\tHarcourt\t8/7/1983\tFiction\n",
      "The Parsifal Mosaic\tRobert Ludlum\tRandom House\t3/21/1982\tFiction\n",
      "The Prodigal Daughter\tJeffrey Archer\tLinden Press\t7/4/1982\tFiction\n",
      "The Return of the Jedi\tJoan D. Vinge\tRandom House\t6/12/1983\tFiction\n",
      "The Sicilian\tMario Puzo\tSimon & Schuster\t1/20/1985\tFiction\n",
      "The Talisman\tStephen King\tViking\t10/28/1984\tFiction\n",
      "Thinner\tStephen King\tNAL Books\t4/28/1985\tFiction\n",
      "Who Killed the Robins Family?\tBill Adler\tMorrow\t1/29/1984\tFiction\n",
      "A Few Minutes with Andy Rooney\tAndy A. Rooney\tAtheneum\t3/7/1982\tNonfiction\n",
      "A Light in the Attic\tShel Silverstein\tHarper\t11/29/1981\tNonfiction\n",
      "A Passion for Excellence\tTom Peters\tRandom House\t6/9/1985\tNonfiction\n",
      "And More by Andy Rooney\tAndy A. Rooney\tAtheneum\t11/21/1982\tNonfiction\n",
      "Elvis and Me\tPriscilla Beaulieu Presley\tPutnam\t9/29/1985\tNonfiction\n",
      "Iacocca\tLee Iacocca\tBantam\t11/4/1984\tNonfiction\n",
      "In Search of Excellence\tThomas J. Peters\tHarper\t4/24/1983\tNonfiction\n",
      "Jane Fonda's Workout Book\tJane Fonda\tSimon & Schuster\t3/14/1982\tNonfiction\n",
      "Life Extension\tDurk Pearson\tWarner\t8/8/1982\tNonfiction\n",
      "Loving Each Other\tLeo Buscaglia\tHolt\t9/16/1984\tNonfiction\n",
      "Mayor\tEdward Koch\tSimon & Schuster\t2/26/1984\tNonfiction\n",
      "Megatrends\tJohn Naisbitt\tWarner\t2/27/1983\tNonfiction\n",
      "Motherhood: The Second Oldest Profession\tErma Bombeck\tMcGraw-Hill\t10/23/1983\tNonfiction\n",
      "Never Say Diet\tRichard Simmons\tWarner\t3/8/1981\tNonfiction\n",
      "The Beverly Hills Diet\tJudy Mazel\tMacMillan\t7/12/1981\tNonfiction\n",
      "The Kennedys: An American Drama\tPeter Collier\tSummit\t7/22/1984\tNonfiction\n",
      "The Lord God Made Them All\tJames Herriot\tSt. Martin's\t5/17/1981\tNonfiction\n",
      "Wired\tBob Woodward\tSimon & Schuster\t6/24/1984\tNonfiction\n",
      "Yeager\tChuck Yeager\tBantam\t7/21/1985\tNonfiction\n"
     ]
    }
   ],
   "source": [
    "filename=r\"C:/bestsellers.txt\"\n",
    "Fyear = input(\"Enter first year: \")\n",
    "Lyear = input(\"Enter last year: \")\n",
    "print(' ')\n",
    "print(' * Books published from {0} to {1} *'.format(Fyear,Lyear), \"\\n\")\n",
    "Fyear = int(Fyear)\n",
    "Lyear = int(Lyear)\n",
    "\n",
    "with open(filename) as f:\n",
    "  content = f.readlines()\n",
    "content = [x.strip() for x in content]\n",
    "\n",
    "for text in content:\n",
    "  str = text.split(\"\\t\") \n",
    "  date = str[3]\n",
    "  year = int(date[-4:])\n",
    "  if year >= Fyear and year <= Lyear:\n",
    "    print(text)"
   ]
  },
  {
   "cell_type": "raw",
   "metadata": {},
   "source": [
    "Question# 2"
   ]
  },
  {
   "cell_type": "code",
   "execution_count": 7,
   "metadata": {},
   "outputs": [
    {
     "name": "stdout",
     "output_type": "stream",
     "text": [
      "Enter month: 3\n",
      "Enter year: 1985\n",
      " \n",
      " * Books that reached #1 in 3/1985 *\n",
      "Family Album\tDanielle Steel\tDelacorte\t3/31/1985\tFiction\n"
     ]
    }
   ],
   "source": [
    "umonth = input(\"Enter month: \")\n",
    "uyear = input(\"Enter year: \")\n",
    "\n",
    "print(' ')\n",
    "print(' * Books that reached #1 in {0}/{1} *'.format(umonth,uyear))\n",
    "umonth = int(umonth)\n",
    "uyear = int(uyear)\n",
    "\n",
    "with open(filename) as f:\n",
    "  content = f.readlines()\n",
    "content = [x.strip() for x in content]\n",
    "\n",
    "for text in content:\n",
    "  str = text.split(\"\\t\")\n",
    "  date = str[3]\n",
    "  ldate = date.split('/')  \n",
    "  year = int(ldate[2])\n",
    "  month = int(ldate[0])\n",
    "  if uyear == year and umonth == month:\n",
    "    print(text)"
   ]
  },
  {
   "cell_type": "raw",
   "metadata": {},
   "source": [
    "Question# 3"
   ]
  },
  {
   "cell_type": "code",
   "execution_count": 12,
   "metadata": {},
   "outputs": [
    {
     "name": "stdout",
     "output_type": "stream",
     "text": [
      "Enter some letters from the author's name: mic\n",
      " \n",
      " Books whose author name contains \"mic\"\n",
      "Airframe\tMichael Crichton\tKnopf\t12/29/1996\tFiction\n",
      "Alaska\tJames Michener\tRandom House\t7/3/1988\tFiction\n",
      "Centennial\tJames Michener\tRandom House\t10/13/1974\tFiction\n",
      "Chesapeake\tJames Michener\tRandom House\t7/23/1978\tFiction\n",
      "Disclosure\tMichael Crichton\tKnopf\t1/23/1994\tFiction\n",
      "Hawaii\tJames Michener\tRandom House\t1/17/1960\tFiction\n",
      "Poland\tJames Michener\tRandom House\t9/11/1983\tFiction\n",
      "Prey\tMichael Crichton\tHarperCollins\t12/15/2002\tFiction\n",
      "Rising Sun\tMichael Crichton\tPutnam\t3/1/1992\tFiction\n",
      "Space\tJames Michener\tRandom House\t10/10/1982\tFiction\n",
      "Texas\tJames Michener\tRandom House\t10/13/1985\tFiction\n",
      "The Brass Verdict\tMichael Connelly\tLittle, Brown\t11/2/2008\tFiction\n",
      "The Closers\tMichael Connelly\tLittle, Brown\t6/5/2005\tFiction\n",
      "The Covenant\tJames Michener\tRandom House\t11/2/1980\tFiction\n",
      "The Drop\tMichael Connelly\tLittle, Brown\t12/18/2011\tFiction\n",
      "The Fifth Witness\tMichael Connelly\tLittle, Brown\t4/24/2011\tFiction\n",
      "The Lincoln Lawyer\tMichael Connelly\tLittle, Brown\t10/23/2005\tFiction\n",
      "The Lost World\tMichael Crichton\tKnopf\t10/8/1995\tFiction\n",
      "The Reversal\tMichael Connelly\tLittle, Brown\t10/24/2010\tFiction\n",
      "The Scarecrow\tMichael Connelly\tLittle, Brown\t6/14/2009\tFiction\n",
      "The Source\tJames Michener\tRandom House\t7/11/1965\tFiction\n",
      "Culture of Corruption\tMichelle Malkin\tRegnery\t8/16/2009\tNonfiction\n",
      "Dude, Where's My Country?\tMichael Moore\tWarner\t10/26/2003\tNonfiction\n",
      "Foley Is Good\tMick Foley\tRegan Books/Harper Collins\t5/27/2001\tNonfiction\n",
      "Have a Nice Day!\tMick Foley\tRegan Books/Harper Collins\t12/5/1999\tNonfiction\n",
      "In Defense of Food\tMichael Pollan\tPenguin Press\t1/20/2008\tNonfiction\n",
      "Lucky Man\tMichael J. Fox\tHyperion\t4/21/2002\tNonfiction\n",
      "Moonwalk\tMichael Jackson\tDoubleday\t5/15/1988\tNonfiction\n",
      "Power!\tMichael Korda\tRandom House\t11/23/1975\tNonfiction\n",
      "Stupid White Men\tMichael Moore\tRegan Books/Harper Collins\t3/24/2002\tNonfiction\n",
      "The Big Short\tMichael Lewis\tNorton\t4/4/2010\tNonfiction\n",
      "The Savage Nation\tMichael Savage\tWND/Thomas Nelson\t2/2/2003\tNonfiction\n"
     ]
    }
   ],
   "source": [
    "aname = input(\"Enter some letters from the author's name: \")\n",
    "\n",
    "print(' ')\n",
    "print(' Books whose author name contains \\\"{0}\\\"'.format(aname))\n",
    "\n",
    "with open(filename) as f:\n",
    "  content = f.readlines()\n",
    "content = [x.strip() for x in content]\n",
    "\n",
    "for text in content:\n",
    "  str = text.split(\"\\t\")\n",
    "  author = str[1].lower()\n",
    "  if author.rfind(aname.lower()) != -1:\n",
    "    print(text)"
   ]
  },
  {
   "cell_type": "raw",
   "metadata": {},
   "source": [
    "Question# 4"
   ]
  },
  {
   "cell_type": "code",
   "execution_count": 13,
   "metadata": {},
   "outputs": [
    {
     "name": "stdout",
     "output_type": "stream",
     "text": [
      "Enter a string from the book title: love\n",
      " \n",
      " Books in the title of which there is \"love\"\n",
      "By Love Possessed\tJames Gould Cozzens\tHarcourt\t9/22/1957\tFiction\n",
      "Love Is Eternal\tIrving Stone\tDoubleday\t10/17/1954\tFiction\n",
      "Love Story\tErich Segal\tHarper\t5/10/1970\tFiction\n",
      "Loves Music, Loves to Dance\tMary Higgins Clark\tSimon & Schuster\t5/12/1991\tFiction\n",
      "The Girl Who Loved Tom Gordon\tStephen King\tScribner\t5/2/1999\tFiction\n",
      "The Love Machine\tJacqueline Susann\tSimon & Schuster\t6/22/1969\tFiction\n",
      "The Lovely Bones\tAlice Sebold\tLittle, Brown\t8/18/2002\tFiction\n",
      "Love, Medicine and Miracles\tBernie S. Siegel\tHarper\t5/17/1987\tNonfiction\n",
      "Men in Love\tNancy Friday\tDelacorte\t5/18/1980\tNonfiction\n",
      "My Sergei: A Love Story\tEkaterina Gordeeva\tWarner\t11/24/1996\tNonfiction\n",
      "Lover Reborn \t J.R. Ward \t New American Library \t 4/15/2012 \t Fiction\n",
      "Lover At Last \t J.R. Ward \t New American Library \t 4/14/2013 \t Fiction\n"
     ]
    }
   ],
   "source": [
    "utitle = input(\"Enter a string from the book title: \")\n",
    "\n",
    "print(' ')\n",
    "print(' Books in the title of which there is \\\"{0}\\\"'.format(utitle))\n",
    "\n",
    "with open(filename) as f:\n",
    "  content = f.readlines()\n",
    "content = [x.strip() for x in content]\n",
    "\n",
    "for text in content:\n",
    "  str = text.split(\"\\t\")\n",
    "  title = str[0].lower()\n",
    "  if title.rfind(utitle.lower()) != -1:\n",
    "    print(text)"
   ]
  },
  {
   "cell_type": "code",
   "execution_count": null,
   "metadata": {},
   "outputs": [],
   "source": []
  }
 ],
 "metadata": {
  "kernelspec": {
   "display_name": "Python 3",
   "language": "python",
   "name": "python3"
  },
  "language_info": {
   "codemirror_mode": {
    "name": "ipython",
    "version": 3
   },
   "file_extension": ".py",
   "mimetype": "text/x-python",
   "name": "python",
   "nbconvert_exporter": "python",
   "pygments_lexer": "ipython3",
   "version": "3.7.3"
  }
 },
 "nbformat": 4,
 "nbformat_minor": 2
}
