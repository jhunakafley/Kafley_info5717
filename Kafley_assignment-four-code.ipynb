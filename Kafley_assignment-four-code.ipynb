{
 "cells": [
  {
   "cell_type": "raw",
   "metadata": {},
   "source": [
    "Assignment 4"
   ]
  },
  {
   "cell_type": "raw",
   "metadata": {},
   "source": [
    "Question# 1"
   ]
  },
  {
   "cell_type": "code",
   "execution_count": 20,
   "metadata": {},
   "outputs": [],
   "source": [
    "import sys\n",
    "import mysql.connector\n",
    "from tweepy.streaming import StreamListener\n",
    "from tweepy import OAuthHandler\n",
    "from tweepy import Stream\n",
    "from tweepy import API\n",
    "import tweepy\n",
    "import json\n",
    "import networkx as nx\n",
    "import matplotlib.pyplot as plt"
   ]
  },
  {
   "cell_type": "raw",
   "metadata": {},
   "source": [
    "Question# 1.1"
   ]
  },
  {
   "cell_type": "code",
   "execution_count": 21,
   "metadata": {},
   "outputs": [],
   "source": [
    "dbusername=\"root\"\n",
    "dbpassword = \"Fisherm@n82\"\n",
    "dbhost = \"localhost\"\n",
    "dbdatabase = \"Mysql\"\n",
    "\n",
    "try:\n",
    "    dropsql = \"DROP TABLE IF EXISTS `Tdata`\"\n",
    "    createsql = \"CREATE TABLE `Tdata`( `screen_name` VARCHAR(255) NOT NULL , `user_name` VARCHAR(255) NOT NULL , `user_location` VARCHAR(255) NOT NULL , `user_description` VARCHAR(255) NOT NULL , `no_follows` INT(10) NOT NULL , `no_friends` INT(10) NOT NULL , `statuses` INT(10) NOT NULL , `user_url` VARCHAR(255) NULL )\"\n",
    "    connection = mysql.connector.connect(host=dbhost,user=dbusername, passwd=dbpassword, db=dbdatabase)\n",
    "    cursor = connection.cursor()\n",
    "    cursor.execute(dropsql)\n",
    "    cursor.execute(createsql)\n",
    "    connection.commit()\n",
    "    cursor.close()\n",
    "except mysql.connector.Error as error:\n",
    "    print(\"Failed to save into database {}\".format(error))\n",
    "    \n",
    "finally:\n",
    "    if (connection.is_connected()):\n",
    "        connection.close()"
   ]
  },
  {
   "cell_type": "raw",
   "metadata": {},
   "source": [
    "Question# 1.2"
   ]
  },
  {
   "cell_type": "code",
   "execution_count": 22,
   "metadata": {},
   "outputs": [],
   "source": [
    "ACCESS_KEY = '1144377060036620294-BSEicX3zH7hIhksbNZV9mrWFwa07cO'\n",
    "ACCESS_SECRET = 'gxWMOodDq1nQAjix9mHEOUSAtgE7XH5ctHInm0XRslJce'\n",
    "CONSUMER_KEY = 'u7L1lnR7HN85dn1qnTFO1cegb'\n",
    "CONSUMER_SECRET = 'QN1JrEmit2To46ZcwWAT4aI5QGWZXWRDDUPnMCWV5M66SFc8wT'"
   ]
  },
  {
   "cell_type": "code",
   "execution_count": 23,
   "metadata": {},
   "outputs": [],
   "source": [
    "class ListenToTweets(StreamListener):\n",
    "    count_tweets = 0\n",
    "    def __init__(self,tweets,limit):\n",
    "        self.tweets = tweets\n",
    "        self.limit = limit\n",
    "        \n",
    "    def on_data(self, data):\n",
    "        self.count_tweets+=1 \n",
    "        try:\n",
    "            tweets = json.loads(data)\n",
    "            with open(self.tweets,'a') as wr:\n",
    "                json.dump(tweets, wr)\n",
    "            return True\n",
    "        except BaseException as ex:\n",
    "            print('Error: %s' %str(ex))\n",
    "            return False\n",
    "        if self.count_tweets >= self.limit:\n",
    "            return False\n",
    "            \n",
    "    def on_error(self,status):\n",
    "        print(status)\n",
    "        if status == 420:\n",
    "            return False"
   ]
  },
  {
   "cell_type": "code",
   "execution_count": 24,
   "metadata": {},
   "outputs": [],
   "source": [
    "auth = OAuthHandler(CONSUMER_KEY,CONSUMER_SECRET)\n",
    "myapi = tweepy.API(auth)\n",
    "auth.set_access_token(ACCESS_KEY, ACCESS_SECRET)\n",
    "myapi = tweepy.API(auth)"
   ]
  },
  {
   "cell_type": "code",
   "execution_count": 25,
   "metadata": {},
   "outputs": [
    {
     "name": "stdout",
     "output_type": "stream",
     "text": [
      "Successfully Saved\n"
     ]
    }
   ],
   "source": [
    "usersinfo = myapi.lookup_users(user_ids=['84554399','101311381','21447363','15846407','18681139','37046756','129307263','34507480','16409683','25365536'])\n",
    "data_to_save =[]\n",
    "for user in usersinfo:\n",
    "    values = (user.screen_name,user.name,user.location,user.description,\n",
    "                user.followers_count,user.friends_count,user.statuses_count,user.url)\n",
    "    data_to_save.append(values)\n",
    "\n",
    "\n",
    "try:\n",
    "    sql = \"INSERT INTO `Tdata` (`screen_name`, `user_name`, `user_location`, `user_description`, `no_follows`, `no_friends`, `statuses`, `user_url`) VALUES (%s,%s,%s,%s,%s,%s,%s,%s)\"\n",
    "\n",
    "    connection = mysql.connector.connect(host=dbhost,user=dbusername, passwd=dbpassword, db=dbdatabase)\n",
    "    cursor = connection.cursor()\n",
    "    cursor.executemany(sql,data_to_save)\n",
    "    connection.commit()\n",
    "    print(\"Successfully Saved\")\n",
    "    cursor.close()\n",
    "except mysql.connector.Error as error:\n",
    "    print(\"Failed to save into database {}\".format(error))\n",
    "    \n",
    "finally:\n",
    "    if (connection.is_connected()):\n",
    "        connection.close()"
   ]
  },
  {
   "cell_type": "raw",
   "metadata": {},
   "source": [
    "Question# 1.3"
   ]
  },
  {
   "cell_type": "code",
   "execution_count": 29,
   "metadata": {},
   "outputs": [
    {
     "data": {
      "image/png": "[encoded data removed]",
      "text/plain": [
       "<Figure size 432x288 with 1 Axes>"
      ]
     },
     "metadata": {},
     "output_type": "display_data"
    }
   ],
   "source": [
    "nodes = []\n",
    "edges = []\n",
    "usersinfo = myapi.lookup_users(user_ids=['101311381'])\n",
    "for user in usersinfo:\n",
    "    nodes.append(user.name)\n",
    "    set_followers = (user.name,'Followers\\n'+str(user.followers_count))\n",
    "    set_friends = (user.name , 'Friends\\n'+str(user.friends_count))\n",
    "    favourites = (user.name, 'Likes\\n'+str(user.favourites_count))\n",
    "    \n",
    "    edges.append(set_followers)\n",
    "    edges.append(set_friends)\n",
    "    edges.append(favourites)  \n",
    "G = nx.Graph()\n",
    "#  add nodes\n",
    "G.add_nodes_from(nodes)\n",
    "# add edges\n",
    "G.add_edges_from(edges)\n",
    "nx.draw(G, with_labels=True, font_weight='bold')"
   ]
  },
  {
   "cell_type": "raw",
   "metadata": {},
   "source": [
    "Question# 1.4"
   ]
  },
  {
   "cell_type": "code",
   "execution_count": 33,
   "metadata": {},
   "outputs": [],
   "source": [
    "def authenticate(API_KEY, SECRET_KEY, ACCESS_KEY, ACCESS_SECRET):\n",
    "\n",
    "    auth = OAuthHandler(API_KEY, SECRET_KEY)\n",
    "    auth.set_access_token(ACCESS_KEY, ACCESS_SECRET)\n",
    "    api = API(auth, \n",
    "                     wait_on_rate_limit=True, \n",
    "                     wait_on_rate_limit_notify=True)\n",
    "  \n",
    "    return api"
   ]
  },
  {
   "cell_type": "code",
   "execution_count": 9,
   "metadata": {},
   "outputs": [],
   "source": [
    "keyword = ['Texas','weather']\n",
    "geolocation = [-86.33,41.63,-86.20,41.74] \n",
    "\n",
    "api = authenticate(CONSUMER_KEY,CONSUMER_SECRET,ACCESS_KEY,ACCESS_SECRET)\n",
    "\n",
    "\n",
    "class Listener(StreamListener):\n",
    "    \n",
    "    def __init__(self,output_data=sys.stdout):\n",
    "        self.num_tweets = 0\n",
    "        super(Listener, self).__init__()  \n",
    "        self.output_data = output_data\n",
    "    \n",
    "    def on_status(self, status):        \n",
    "        if self.num_tweets < 100:\n",
    "            print(status.text,file=self.output_data)\n",
    "            self.num_tweets += 1\n",
    "            return True\n",
    "        else:\n",
    "            return False"
   ]
  },
  {
   "cell_type": "raw",
   "metadata": {},
   "source": [
    "Question# 1.4 (a)"
   ]
  },
  {
   "cell_type": "code",
   "execution_count": 10,
   "metadata": {},
   "outputs": [],
   "source": [
    "file = 'texas_weather.json';\n",
    "output = open(file, 'a',encoding=\"utf-8\")\n",
    "lstn = Listener(output_data=output)\n",
    "stream = Stream(auth=api.auth, listener=lstn)\n",
    "\n",
    "try:    \n",
    "    stream.filter(track=keyword)\n",
    "finally:\n",
    "        output.close()"
   ]
  },
  {
   "cell_type": "raw",
   "metadata": {},
   "source": [
    "Question# 1.4 (b)"
   ]
  },
  {
   "cell_type": "code",
   "execution_count": 11,
   "metadata": {},
   "outputs": [],
   "source": [
    "file = 'geolocation_file.json';\n",
    "output = open(file, 'a',encoding=\"utf-8\")\n",
    "lstn_2 = Listener(output_data=output)\n",
    "stream = Stream(auth=api.auth, listener=lstn_2)\n",
    "\n",
    "try:    \n",
    "    stream.filter(locations=geolocation)\n",
    "finally:\n",
    "    \n",
    "    output.close()"
   ]
  },
  {
   "cell_type": "raw",
   "metadata": {},
   "source": [
    "Question# 1.4 (c)"
   ]
  },
  {
   "cell_type": "code",
   "execution_count": 15,
   "metadata": {},
   "outputs": [],
   "source": [
    "with open(\"hashtag_unt.json\", 'w') as file:     \n",
    "    for tweet in api.search(q=\"#UNT\", lang=\"en\", rpp=100):\n",
    "        json.dump(tweet.text, file, indent=4, sort_keys=True)"
   ]
  },
  {
   "cell_type": "raw",
   "metadata": {},
   "source": [
    "Question# 2"
   ]
  },
  {
   "cell_type": "code",
   "execution_count": 13,
   "metadata": {},
   "outputs": [],
   "source": [
    "import pandas as pd\n",
    "import matplotlib.pyplot as plt\n",
    "%matplotlib inline"
   ]
  },
  {
   "cell_type": "code",
   "execution_count": 14,
   "metadata": {},
   "outputs": [
    {
     "data": {
      "text/html": [
       "<div>\n",
       "<style scoped>\n",
       "    .dataframe tbody tr th:only-of-type {\n",
       "        vertical-align: middle;\n",
       "    }\n",
       "\n",
       "    .dataframe tbody tr th {\n",
       "        vertical-align: top;\n",
       "    }\n",
       "\n",
       "    .dataframe thead th {\n",
       "        text-align: right;\n",
       "    }\n",
       "</style>\n",
       "<table border=\"1\" class=\"dataframe\">\n",
       "  <thead>\n",
       "    <tr style=\"text-align: right;\">\n",
       "      <th></th>\n",
       "      <th>PID</th>\n",
       "      <th>LEGAL_TYPE</th>\n",
       "      <th>FOLIO</th>\n",
       "      <th>LAND_COORDINATE</th>\n",
       "      <th>ZONE_NAME</th>\n",
       "      <th>ZONE_CATEGORY</th>\n",
       "      <th>LOT</th>\n",
       "      <th>BLOCK</th>\n",
       "      <th>PLAN</th>\n",
       "      <th>DISTRICT_LOT</th>\n",
       "      <th>...</th>\n",
       "      <th>NARRATIVE_LEGAL_LINE5</th>\n",
       "      <th>CURRENT_LAND_VALUE</th>\n",
       "      <th>CURRENT_IMPROVEMENT_VALUE</th>\n",
       "      <th>TAX_ASSESSMENT_YEAR</th>\n",
       "      <th>PREVIOUS_LAND_VALUE</th>\n",
       "      <th>PREVIOUS_IMPROVEMENT_VALUE</th>\n",
       "      <th>YEAR_BUILT</th>\n",
       "      <th>BIG_IMPROVEMENT_YEAR</th>\n",
       "      <th>TAX_LEVY</th>\n",
       "      <th>NEIGHBOURHOOD_CODE</th>\n",
       "    </tr>\n",
       "  </thead>\n",
       "  <tbody>\n",
       "    <tr>\n",
       "      <th>0</th>\n",
       "      <td>030-712-831</td>\n",
       "      <td>LAND</td>\n",
       "      <td>6.131190e+11</td>\n",
       "      <td>61311906</td>\n",
       "      <td>RM-5A</td>\n",
       "      <td>Multiple Family Dwelling</td>\n",
       "      <td>1</td>\n",
       "      <td>NaN</td>\n",
       "      <td>EPP87122</td>\n",
       "      <td>185</td>\n",
       "      <td>...</td>\n",
       "      <td>NaN</td>\n",
       "      <td>NaN</td>\n",
       "      <td>NaN</td>\n",
       "      <td>NaN</td>\n",
       "      <td>NaN</td>\n",
       "      <td>NaN</td>\n",
       "      <td>NaN</td>\n",
       "      <td>NaN</td>\n",
       "      <td>NaN</td>\n",
       "      <td>27</td>\n",
       "    </tr>\n",
       "    <tr>\n",
       "      <th>1</th>\n",
       "      <td>003-614-468</td>\n",
       "      <td>STRATA</td>\n",
       "      <td>6.841650e+11</td>\n",
       "      <td>68416507</td>\n",
       "      <td>RM-3</td>\n",
       "      <td>Multiple Family Dwelling</td>\n",
       "      <td>30</td>\n",
       "      <td>NaN</td>\n",
       "      <td>VAS473</td>\n",
       "      <td>526</td>\n",
       "      <td>...</td>\n",
       "      <td>NaN</td>\n",
       "      <td>443000.0</td>\n",
       "      <td>48300.0</td>\n",
       "      <td>2019.0</td>\n",
       "      <td>386000.0</td>\n",
       "      <td>52100.0</td>\n",
       "      <td>1977.0</td>\n",
       "      <td>1977.0</td>\n",
       "      <td>1030.90</td>\n",
       "      <td>7</td>\n",
       "    </tr>\n",
       "    <tr>\n",
       "      <th>2</th>\n",
       "      <td>029-610-885</td>\n",
       "      <td>STRATA</td>\n",
       "      <td>6.401230e+11</td>\n",
       "      <td>64012298</td>\n",
       "      <td>C-2B</td>\n",
       "      <td>Commercial</td>\n",
       "      <td>20</td>\n",
       "      <td>NaN</td>\n",
       "      <td>EPS2945</td>\n",
       "      <td>526</td>\n",
       "      <td>...</td>\n",
       "      <td>OF THE STRATA LOT AS SHOWN ON FORM</td>\n",
       "      <td>729000.0</td>\n",
       "      <td>336000.0</td>\n",
       "      <td>2019.0</td>\n",
       "      <td>639000.0</td>\n",
       "      <td>338000.0</td>\n",
       "      <td>2015.0</td>\n",
       "      <td>2015.0</td>\n",
       "      <td>2727.63</td>\n",
       "      <td>7</td>\n",
       "    </tr>\n",
       "    <tr>\n",
       "      <th>3</th>\n",
       "      <td>030-764-386</td>\n",
       "      <td>STRATA</td>\n",
       "      <td>6.541920e+11</td>\n",
       "      <td>65419193</td>\n",
       "      <td>CD-1 (591)</td>\n",
       "      <td>NaN</td>\n",
       "      <td>160</td>\n",
       "      <td>119</td>\n",
       "      <td>EPS5422</td>\n",
       "      <td>301</td>\n",
       "      <td>...</td>\n",
       "      <td>IT ENTITLEMENT OF THE STRATA LOT AS</td>\n",
       "      <td>148271.0</td>\n",
       "      <td>271638.0</td>\n",
       "      <td>2019.0</td>\n",
       "      <td>NaN</td>\n",
       "      <td>NaN</td>\n",
       "      <td>NaN</td>\n",
       "      <td>NaN</td>\n",
       "      <td>1055.99</td>\n",
       "      <td>13</td>\n",
       "    </tr>\n",
       "    <tr>\n",
       "      <th>4</th>\n",
       "      <td>030-764-637</td>\n",
       "      <td>STRATA</td>\n",
       "      <td>6.541920e+11</td>\n",
       "      <td>65419193</td>\n",
       "      <td>CD-1 (591)</td>\n",
       "      <td>NaN</td>\n",
       "      <td>185</td>\n",
       "      <td>119</td>\n",
       "      <td>EPS5422</td>\n",
       "      <td>301</td>\n",
       "      <td>...</td>\n",
       "      <td>IT ENTITLEMENT OF THE STRATA LOT AS</td>\n",
       "      <td>239516.0</td>\n",
       "      <td>438801.0</td>\n",
       "      <td>2019.0</td>\n",
       "      <td>NaN</td>\n",
       "      <td>NaN</td>\n",
       "      <td>NaN</td>\n",
       "      <td>NaN</td>\n",
       "      <td>1705.82</td>\n",
       "      <td>13</td>\n",
       "    </tr>\n",
       "  </tbody>\n",
       "</table>\n",
       "<p>5 rows × 28 columns</p>\n",
       "</div>"
      ],
      "text/plain": [
       "           PID LEGAL_TYPE         FOLIO  LAND_COORDINATE   ZONE_NAME  \\\n",
       "0  030-712-831       LAND  6.131190e+11         61311906       RM-5A   \n",
       "1  003-614-468     STRATA  6.841650e+11         68416507        RM-3   \n",
       "2  029-610-885     STRATA  6.401230e+11         64012298        C-2B   \n",
       "3  030-764-386     STRATA  6.541920e+11         65419193  CD-1 (591)   \n",
       "4  030-764-637     STRATA  6.541920e+11         65419193  CD-1 (591)   \n",
       "\n",
       "              ZONE_CATEGORY  LOT BLOCK      PLAN DISTRICT_LOT  ...  \\\n",
       "0  Multiple Family Dwelling    1   NaN  EPP87122          185  ...   \n",
       "1  Multiple Family Dwelling   30   NaN    VAS473          526  ...   \n",
       "2                Commercial   20   NaN   EPS2945          526  ...   \n",
       "3                       NaN  160   119   EPS5422          301  ...   \n",
       "4                       NaN  185   119   EPS5422          301  ...   \n",
       "\n",
       "                 NARRATIVE_LEGAL_LINE5  CURRENT_LAND_VALUE  \\\n",
       "0                                  NaN                 NaN   \n",
       "1                                  NaN            443000.0   \n",
       "2  OF THE STRATA LOT AS SHOWN ON FORM             729000.0   \n",
       "3  IT ENTITLEMENT OF THE STRATA LOT AS            148271.0   \n",
       "4  IT ENTITLEMENT OF THE STRATA LOT AS            239516.0   \n",
       "\n",
       "  CURRENT_IMPROVEMENT_VALUE TAX_ASSESSMENT_YEAR PREVIOUS_LAND_VALUE  \\\n",
       "0                       NaN                 NaN                 NaN   \n",
       "1                   48300.0              2019.0            386000.0   \n",
       "2                  336000.0              2019.0            639000.0   \n",
       "3                  271638.0              2019.0                 NaN   \n",
       "4                  438801.0              2019.0                 NaN   \n",
       "\n",
       "  PREVIOUS_IMPROVEMENT_VALUE YEAR_BUILT BIG_IMPROVEMENT_YEAR TAX_LEVY  \\\n",
       "0                        NaN        NaN                  NaN      NaN   \n",
       "1                    52100.0     1977.0               1977.0  1030.90   \n",
       "2                   338000.0     2015.0               2015.0  2727.63   \n",
       "3                        NaN        NaN                  NaN  1055.99   \n",
       "4                        NaN        NaN                  NaN  1705.82   \n",
       "\n",
       "   NEIGHBOURHOOD_CODE  \n",
       "0                  27  \n",
       "1                   7  \n",
       "2                   7  \n",
       "3                  13  \n",
       "4                  13  \n",
       "\n",
       "[5 rows x 28 columns]"
      ]
     },
     "execution_count": 14,
     "metadata": {},
     "output_type": "execute_result"
    }
   ],
   "source": [
    "df=pd.read_csv(\"C:/assignment_4_property_tax_report_2019.csv\",encoding = \"utf-8\",index_col=False)\n",
    "df.head()"
   ]
  },
  {
   "cell_type": "raw",
   "metadata": {},
   "source": [
    "Question# 2.1"
   ]
  },
  {
   "cell_type": "code",
   "execution_count": 15,
   "metadata": {},
   "outputs": [],
   "source": [
    "dataset=df.loc[~pd.isnull(df.YEAR_BUILT)]\n",
    "dataset = df[['ZONE_CATEGORY','YEAR_BUILT']][(df['YEAR_BUILT'] >=1900)]\n",
    "\n",
    "dataset_new=dataset.groupby('YEAR_BUILT').count()"
   ]
  },
  {
   "cell_type": "code",
   "execution_count": 16,
   "metadata": {},
   "outputs": [
    {
     "data": {
      "image/png": "[encoded data removed]",
      "text/plain": [
       "<Figure size 432x288 with 1 Axes>"
      ]
     },
     "metadata": {
      "needs_background": "light"
     },
     "output_type": "display_data"
    }
   ],
   "source": [
    "ax=dataset_new.plot()\n",
    "ax.set_xlabel(\"Year\", fontsize=12)\n",
    "ax.set_ylabel(\"Number of Houses Built\", fontsize=12)\n",
    "ax.get_legend().remove()\n",
    "\n",
    "\n",
    "plt.show()\n"
   ]
  },
  {
   "cell_type": "raw",
   "metadata": {},
   "source": [
    "Question# 2.2"
   ]
  },
  {
   "cell_type": "code",
   "execution_count": 17,
   "metadata": {},
   "outputs": [
    {
     "data": {
      "image/png": "[encoded data removed]",
      "text/plain": [
       "<Figure size 432x288 with 1 Axes>"
      ]
     },
     "metadata": {
      "needs_background": "light"
     },
     "output_type": "display_data"
    }
   ],
   "source": [
    "ax=dataset.hist()\n",
    "\n",
    "plt.title('Distribution of number of houses built between 1900 and 2019')\n",
    "plt.xlabel('Number of house')\n",
    "plt.ylabel('Frequency')\n",
    "plt.show()"
   ]
  },
  {
   "cell_type": "raw",
   "metadata": {},
   "source": [
    "Question# 2.3"
   ]
  },
  {
   "cell_type": "code",
   "execution_count": 18,
   "metadata": {},
   "outputs": [
    {
     "data": {
      "image/png": "[encoded data removed]",
      "text/plain": [
       "<Figure size 576x576 with 1 Axes>"
      ]
     },
     "metadata": {},
     "output_type": "display_data"
    }
   ],
   "source": [
    "dataset_pie=dataset.groupby('ZONE_CATEGORY').count()\n",
    "\n",
    "\n",
    "dataset_pie=dataset_pie.nlargest(8,'YEAR_BUILT')\n",
    "\n",
    "dataset_pie.plot(kind='pie', subplots=True, figsize=(8, 8),autopct='%.2f',fontsize=10)\n",
    "\n",
    "plt.legend(loc=0, fontsize=8)\n",
    "\n",
    "\n",
    "plt.show()"
   ]
  },
  {
   "cell_type": "raw",
   "metadata": {},
   "source": [
    "Question# 2.4"
   ]
  },
  {
   "cell_type": "code",
   "execution_count": 19,
   "metadata": {},
   "outputs": [
    {
     "data": {
      "image/png": "[encoded data removed]",
      "text/plain": [
       "<Figure size 432x288 with 1 Axes>"
      ]
     },
     "metadata": {
      "needs_background": "light"
     },
     "output_type": "display_data"
    }
   ],
   "source": [
    "dataset_new=dataset.groupby('YEAR_BUILT').count()\n",
    "dataset_new=dataset_new.reset_index()\n",
    "plt.scatter(dataset_new.YEAR_BUILT,dataset_new.ZONE_CATEGORY)\n",
    "plt.show()"
   ]
  }
 ],
 "metadata": {
  "kernelspec": {
   "display_name": "Python 3",
   "language": "python",
   "name": "python3"
  },
  "language_info": {
   "codemirror_mode": {
    "name": "ipython",
    "version": 3
   },
   "file_extension": ".py",
   "mimetype": "text/x-python",
   "name": "python",
   "nbconvert_exporter": "python",
   "pygments_lexer": "ipython3",
   "version": "3.7.3"
  }
 },
 "nbformat": 4,
 "nbformat_minor": 2
}
