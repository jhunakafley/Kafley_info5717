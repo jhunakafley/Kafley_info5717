{
 "cells": [
  {
   "cell_type": "raw",
   "metadata": {},
   "source": [
    "Question 1.1"
   ]
  },
  {
   "cell_type": "code",
   "execution_count": 8,
   "metadata": {},
   "outputs": [
    {
     "name": "stdout",
     "output_type": "stream",
     "text": [
      "Frequency of the words starting with  a vowel\n",
      "(5, 'in')\n",
      "(5, 'and')\n",
      "(5, 'a')\n",
      "(3, 'of')\n",
      "(2, 'as')\n",
      "(1, 'up')\n",
      "(1, 'until')\n",
      "(1, 'uncle')\n",
      "(1, 'on')\n",
      "(1, 'it')\n",
      "(1, 'imagine')\n",
      "(1, 'ever')\n",
      "(1, 'aunt')\n",
      "(1, 'at')\n",
      "(1, 'asleep')\n",
      "(1, 'ask')\n",
      "(1, 'almost')\n",
      "(1, 'all.')\n",
      "(1, 'all')\n",
      "(1, 'about')\n"
     ]
    }
   ],
   "source": [
    "Text = \"\"\"\n",
    "Harry lay in his dark cupboard much later, wishing he had a watch. He didn't know what time it was and he couldn't be sure the \n",
    "Dursleys were asleep yet. Until they were, he couldn't risk sneaking to the kitchen for some food. He'd lived with the Dursleys\n",
    "almost ten years, ten miserable years, as long as he could remember, ever since he'd been a baby and his parents had died in \n",
    "that car crash. He couldn't remember being in the car when his parents had died. Sometimes, when he strained his memory during \n",
    "long hours in his cupboard, he came up with a strange vision: a blinding flash of green light and a burning pain on his forehead.  This, he supposed, was the crash, though he couldn't imagine where all the green light came from. He couldn't remember his \n",
    "parents at all. His aunt and uncle never spoke about them, and of course he was forbidden to ask questions. There were no \n",
    "photographs of them in the house. \"\"\"\n",
    "\n",
    "for char in '-.,\\n':\n",
    "    TextA = Text.replace(char, ' ')\n",
    "TextA = TextA.lower()  \n",
    "word_list = TextA.split()\n",
    "\n",
    "vowels = ['a', 'e', 'i', 'o', 'u']\n",
    "\n",
    "k = {}\n",
    "for word in word_list:\n",
    "    if word[0] in vowels:\n",
    "        k[word] = k.get(word, 0) + 1\n",
    "\n",
    "word_freq = []\n",
    "for key, value in k.items():\n",
    "    word_freq.append((value, key))\n",
    "\n",
    "word_freq.sort(reverse=True)\n",
    "\n",
    "print(\"Frequency of the words starting with  a vowel\")\n",
    "for word in word_freq:\n",
    "    print(word)"
   ]
  },
  {
   "cell_type": "raw",
   "metadata": {},
   "source": [
    "Question 1.2"
   ]
  },
  {
   "cell_type": "code",
   "execution_count": 12,
   "metadata": {},
   "outputs": [
    {
     "name": "stdout",
     "output_type": "stream",
     "text": [
      "\n",
      "Words with an apostrophe:\n",
      "\n",
      "\n",
      "[\"couldn't\", \"didn't\", \"he'd\"]\n"
     ]
    }
   ],
   "source": [
    "ap_words = [word\n",
    "        for word in word_list\n",
    "          if \"'\" in word]\n",
    "ap_words = list(set(ap_words))\n",
    "\n",
    "print(\"\")\n",
    "\n",
    "print(\"Words with an apostrophe:\")\n",
    "\n",
    "print('\\n')\n",
    "\n",
    "print(ap_words)"
   ]
  },
  {
   "cell_type": "raw",
   "metadata": {},
   "source": [
    "Question 1.3"
   ]
  },
  {
   "cell_type": "code",
   "execution_count": 21,
   "metadata": {},
   "outputs": [
    {
     "name": "stdout",
     "output_type": "stream",
     "text": [
      "\n",
      "stopwordsfile:\n",
      "\n",
      "\n",
      "['a', 'about', 'above', 'after', 'again', 'against', 'all', 'am', 'an', 'and', 'any', 'are', \"aren't\", 'as', 'at', 'be', 'because', 'been', 'before', 'being', 'below', 'between', 'both', 'but', 'by', \"can't\", 'cannot', 'could', \"couldn't\", 'did', \"didn't\", 'do', 'does', \"doesn't\", 'doing', \"don't\", 'down', 'during', 'each', 'few', 'for', 'from', 'further', 'had', \"hadn't\", 'has', \"hasn't\", 'have', \"haven't\", 'having', 'he', \"he'd\", \"he'll\", \"he's\", 'her', 'here', \"here's\", 'hers', 'herself', 'him', 'himself', 'his', 'how', \"how's\", 'i', \"i'd\", \"i'll\", \"i'm\", \"i've\", 'if', 'in', 'into', 'is', \"isn't\", 'it', \"it's\", 'its', 'itself', \"let's\", 'me', 'more', 'most', \"mustn't\", 'my', 'myself', 'no', 'nor', 'not', 'of', 'off', 'on', 'once', 'only', 'or', 'other', 'ought', 'our', 'ours', 'ourselves', 'out', 'over', 'own', 'same', \"shan't\", 'she', \"she'd\", \"she'll\", \"she's\", 'should', \"shouldn't\", 'so', 'some', 'such', 'than', 'that', \"that's\", 'the', 'their', 'theirs', 'them', 'themselves', 'then', 'there', \"there's\", 'these', 'they', \"they'd\", \"they'll\", \"they're\", \"they've\", 'this', 'those', 'through', 'to', 'too', 'under', 'until', 'up', 'very', 'was', \"wasn't\", 'we', \"we'd\", \"we'll\", \"we're\", \"we've\", 'were', \"weren't\", 'what', \"what's\", 'when', \"when's\", 'where', \"where's\", 'which', 'while', 'who', \"who's\", 'whom', 'why', \"why's\", 'with', \"won't\", 'would', \"wouldn't\", 'you', \"you'd\", \"you'll\", \"you're\", \"you've\", 'your', 'yours', 'yourself', 'yourselves']\n",
      "\n",
      "The text without stopwordsfile/words with an apostrophe is below:\n",
      "\n",
      "\n",
      "Harry lay dark cupboard much later, wishing watch. know time sure Dursleys asleep yet. were, risk sneaking kitchen food. lived Dursleys almost ten years, ten miserable years, long remember, ever since baby parents died car crash. remember car parents died. Sometimes, strained memory long hours cupboard, came strange vision: blinding flash green light burning pain forehead. This, supposed, crash, though imagine green light came from. remember parents all. aunt uncle never spoke them, course forbidden ask questions. photographs house.\n"
     ]
    }
   ],
   "source": [
    "Text = \"\"\"\n",
    "Harry lay in his dark cupboard much later, wishing he had a watch. He didn't know what time it was and he couldn't be sure the \n",
    "Dursleys were asleep yet. Until they were, he couldn't risk sneaking to the kitchen for some food. He'd lived with the Dursleys\n",
    "almost ten years, ten miserable years, as long as he could remember, ever since he'd been a baby and his parents had died in \n",
    "that car crash. He couldn't remember being in the car when his parents had died. Sometimes, when he strained his memory during \n",
    "long hours in his cupboard, he came up with a strange vision: a blinding flash of green light and a burning pain on his forehead.  This, he supposed, was the crash, though he couldn't imagine where all the green light came from. He couldn't remember his \n",
    "parents at all. His aunt and uncle never spoke about them, and of course he was forbidden to ask questions. There were no \n",
    "photographs of them in the house. \"\"\"\n",
    "\n",
    "stopwordsfile = []\n",
    "file = open('C:\\stopwordsfile.txt', 'r')\n",
    "for word in file:\n",
    "    stopwordsfile.append(word.strip('\\n'))\n",
    "\n",
    "print(\"\")\n",
    "print(\"stopwordsfile:\")\n",
    "print('\\n')\n",
    "print(stopwordsfile)\n",
    "\n",
    "reduced = Text.split()\n",
    "#print(reduced)\n",
    "undict = stopwordsfile + ap_words\n",
    "TextProc = []\n",
    "for i in reduced:\n",
    "     if i.lower() not in undict:\n",
    "           TextProc.append(i)\n",
    "\n",
    "print(\"\")\n",
    "print(\"The text without stopwordsfile/words with an apostrophe is below:\")\n",
    "print('\\n')\n",
    "print(' '.join(TextProc))\n"
   ]
  },
  {
   "cell_type": "raw",
   "metadata": {},
   "source": [
    "Question 2.1 & 2.2"
   ]
  },
  {
   "cell_type": "code",
   "execution_count": 28,
   "metadata": {},
   "outputs": [
    {
     "name": "stdout",
     "output_type": "stream",
     "text": [
      "High temperature\n",
      "File name            || mean           || median || standard deviation\n",
      "C:/2011-Jan-June.csv || 73.5524861878453 || 77.0 || 19.39426481394485\n",
      "C:/2018-Jan-June.csv || 73.06629834254143 || 73.0 || 17.293095028538204\n",
      "\n",
      "\n",
      "Low temperature\n",
      "File name            || mean              || median || standard deviation\n",
      "C:/2011-Jan-June.csv || 50.011049723756905 || 49.0 || 18.51065427449111\n",
      "C:/2011-Jan-June.csv || 49.386740331491715 || 47.0 || 17.64037795274044\n",
      "\n",
      "\n",
      "Precipation\n",
      "File name            || mean              || median || standard deviation\n",
      "C:/2011-Jan-June.csv || 0.10585635359116022 || 0.0 || 0.43081055558868314\n",
      "C:/2018-Jan-June.csv || 0.08033149171270718 || 0.0 || "
     ]
    }
   ],
   "source": [
    "import csv\n",
    "import statistics as st\n",
    "\n",
    "file_A = 'C:/2011-Jan-June.csv'  \n",
    "file_B = 'C:/2018-Jan-June.csv'  \n",
    "\n",
    "\n",
    "with open(file_A, newline='') as csv_file_A:\n",
    "    arr_1 = list(csv.reader(csv_file_A))\n",
    "\n",
    "with open(file_B, newline='') as csv_file_B:\n",
    "    arr_2 = list(csv.reader(csv_file_B))\n",
    "\n",
    "str_end = ' || '  \n",
    "\n",
    "print('High temperature')\n",
    "\n",
    "print('File name           ' + str_end + 'mean          ' + str_end + 'median' + str_end + 'standard deviation')\n",
    "\n",
    "print(file_A, end=str_end)\n",
    "print(st.mean([float(row[1]) for row in arr_1]), end=str_end)\n",
    "print(st.median([float(row[1]) for row in arr_1]), end=str_end)\n",
    "print(st.stdev([float(row[1]) for row in arr_1]))\n",
    "\n",
    "print(file_B, end=str_end)\n",
    "print(st.mean([float(row[1]) for row in arr_2]), end=str_end)\n",
    "print(st.median([float(row[1]) for row in arr_2]), end=str_end)\n",
    "print(st.stdev([float(row[1]) for row in arr_2]))\n",
    "\n",
    "print('\\n')\n",
    "\n",
    "print('Low temperature')\n",
    "\n",
    "print('File name           ' + str_end + 'mean             ' + str_end + 'median' + str_end + 'standard deviation')\n",
    "\n",
    "print(file_A, end=str_end)\n",
    "print(st.mean([float(row[2]) for row in arr_1]), end=str_end)\n",
    "print(st.median([float(row[2]) for row in arr_1]), end=str_end)\n",
    "print(st.stdev([float(row[2]) for row in arr_1]))\n",
    "\n",
    "print(file_A, end=str_end)\n",
    "print(st.mean([float(row[2]) for row in arr_2]), end=str_end)\n",
    "print(st.median([float(row[2]) for row in arr_2]), end=str_end)\n",
    "print(st.stdev([float(row[2]) for row in arr_2]))\n",
    "\n",
    "print('\\n')\n",
    "\n",
    "print('Precipation')\n",
    "\n",
    "print('File name           ' + str_end + 'mean             ' + str_end + 'median' + str_end + 'standard deviation')\n",
    "\n",
    "print(file_A, end=str_end)\n",
    "print(st.mean([float(row[3]) for row in arr_1]), end=str_end)\n",
    "print(st.median([float(row[3]) for row in arr_1]), end=str_end)\n",
    "print(st.stdev([float(row[3]) for row in arr_1]))\n",
    "\n",
    "print(file_B, end=str_end)\n",
    "print(st.mean([float(row[3]) for row in arr_2]), end=str_end)\n",
    "print(st.median([float(row[3]) for row in arr_2]), end=str_end)\n"
   ]
  },
  {
   "cell_type": "raw",
   "metadata": {},
   "source": [
    "Question 3.1 & 3.2"
   ]
  },
  {
   "cell_type": "code",
   "execution_count": 1,
   "metadata": {},
   "outputs": [
    {
     "name": "stdout",
     "output_type": "stream",
     "text": [
      "Enter infomation for three students\n",
      "First name: Alveena\n",
      "Last name: Basnet\n",
      "Middle name: June\n",
      "Record for student is created.\n",
      "First name: Sanvi\n",
      "Last name: Rajya\n",
      "Middle name: Dahal\n",
      "Record for student is created.\n",
      "First name: Reyan\n",
      "Last name: Bhattarai\n",
      "Middle name: Ansh\n",
      "Record for student is created.\n"
     ]
    }
   ],
   "source": [
    "class student(object):\n",
    "\n",
    "    def __init__(self, FN, LN, MN):\n",
    "            self.FirstName = FN\n",
    "            self.LastName = LN\n",
    "            self.MiddleName = MN\n",
    "            self.ClassesTaken = []\n",
    "            self.euid = \"\"\n",
    "            self.GPA = ()\n",
    "                        \n",
    "            print(\"Record for student is created.\")\n",
    "\n",
    "    def print_details(self):\n",
    "\n",
    "        print(\"student:\", self.FirstName, \" \", self.MiddleName, \" \", self.LastName )\n",
    "        \n",
    "        \n",
    "    @classmethod     \n",
    "    def from_input(cls):\n",
    "        return cls(\n",
    "            input('First name: '),\n",
    "            input('Last name: '), \n",
    "            input('Middle name: '),\n",
    "        )    \n",
    "\n",
    "students = {}\n",
    "print(\"Enter infomation for three students\")\n",
    "for i in range(3):  \n",
    "    students[i] = student.from_input()\n"
   ]
  },
  {
   "cell_type": "raw",
   "metadata": {},
   "source": [
    "Question 3.3"
   ]
  },
  {
   "cell_type": "code",
   "execution_count": 6,
   "metadata": {},
   "outputs": [
    {
     "name": "stdout",
     "output_type": "stream",
     "text": [
      "Student name \t|| Student euid\n",
      "______________________________________\n",
      "Alveena June Basnet \t|| ajb4019\n",
      "Sanvi Dahal Rajya \t|| sdr2264\n",
      "Reyan Ansh Bhattarai \t|| rab8826\n"
     ]
    }
   ],
   "source": [
    "import random\n",
    "def createid(person):\n",
    "  person.euid = person.FirstName.lower()[0] + person.MiddleName.lower()[0] + person.LastName.lower()[0] + str(random.randint(1000,9999))  \n",
    "  print(person.FirstName,person.MiddleName,person.LastName,'\\t||', person.euid)\n",
    "    \n",
    "print(\"Student name \\t|| Student euid\")  \n",
    "print(\"______________________________________\") \n",
    "for i in range(3): \n",
    "    createid(students[i])\n"
   ]
  },
  {
   "cell_type": "raw",
   "metadata": {},
   "source": [
    "Question 3.4"
   ]
  },
  {
   "cell_type": "code",
   "execution_count": 7,
   "metadata": {},
   "outputs": [
    {
     "name": "stdout",
     "output_type": "stream",
     "text": [
      "How many courses to register for the student {person.euid}, at least two ? 2\n",
      "Enter Class number, Semester, Grade: INFO 5730, FALL 2019, A\n",
      "Enter Class number, Semester, Grade: INFO 5717, FALL 2019, B\n",
      "How many courses to register for the student {person.euid}, at least two ? 3\n",
      "Enter Class number, Semester, Grade: INFO 5717, FALL 2019, B\n",
      "Enter Class number, Semester, Grade: INFO 5600, FALL 2019, A\n",
      "Enter Class number, Semester, Grade: INFO 5200, FALL 2019, A\n",
      "How many courses to register for the student {person.euid}, at least two ? 2\n",
      "Enter Class number, Semester, Grade: INFO 5717, FALL 2019, A\n",
      "Enter Class number, Semester, Grade: INFO 5200, FALL 2019, A\n"
     ]
    }
   ],
   "source": [
    "def register(person):\n",
    "    z = int(input(\"How many courses to register for the student {person.euid}, at least two ? \"))   \n",
    "    if z < 2:\n",
    "        print(\"Student should be registered for at least two courses!\")\n",
    "        print(\"Please enter correct value\")\n",
    "        z = int(input(\"\"))\n",
    "    for _ in range(z):\n",
    "        a, b, c = input(\"Enter Class number, Semester, Grade: \").split(\",\")\n",
    "        person.ClassesTaken.append([a,b,c])   \n",
    "        \n",
    "for i in range(3):\n",
    "    register(students[i])  "
   ]
  },
  {
   "cell_type": "raw",
   "metadata": {},
   "source": [
    "Question 3.5"
   ]
  },
  {
   "cell_type": "code",
   "execution_count": 9,
   "metadata": {},
   "outputs": [
    {
     "name": "stdout",
     "output_type": "stream",
     "text": [
      "Student name \t| GPA\n",
      "_______________________________\n",
      "Alveena June Basnet \t| 3.5\n",
      "Sanvi Dahal Rajya \t| 3.67\n",
      "Reyan Ansh Bhattarai \t| 4.0\n"
     ]
    }
   ],
   "source": [
    "def Grade_GPA(argument):\n",
    "    switcher = {\n",
    "        \"A\": 4, \"B\": 3, \"C\": 2, \"D\": 1, \"E\": 0,\n",
    "    }\n",
    "    return switcher.get(argument.strip(), 0)\n",
    "\n",
    "def Cal_GPA(person):\n",
    "    n = 0\n",
    "    for i in range(len(person.ClassesTaken)):\n",
    "        count = person.ClassesTaken[i] \n",
    "        n = n + int(Grade_GPA(count[2])) #GPA of the class \n",
    "    n = n / len(person.ClassesTaken)  \n",
    "    return round(n, 2)  \n",
    "\n",
    "print(\"Student name \\t| GPA\")  \n",
    "print(\"_______________________________\") \n",
    "for i in range(3): \n",
    "    print(students[i].FirstName,students[i].MiddleName,students[i].LastName,\"\\t|\",Cal_GPA(students[i]))\n"
   ]
  },
  {
   "cell_type": "code",
   "execution_count": null,
   "metadata": {},
   "outputs": [],
   "source": [
    "Extra Credit- Question 4.1, 4.2, 4.3, 4.4, 4.5, 4.6"
   ]
  },
  {
   "cell_type": "code",
   "execution_count": 1,
   "metadata": {},
   "outputs": [
    {
     "name": "stdout",
     "output_type": "stream",
     "text": [
      "************************\n",
      "** A Simple Math Quiz **\n",
      "************************\n",
      "1. Addition\n",
      "2. Subtraction\n",
      "3. Multiplication\n",
      "4. Integer Division\n",
      "5. Exit\n",
      "------------------------\n",
      "Enter your choice: 1\n",
      "Enter your answer\n",
      "87+19 = 106\n",
      "Correct.\n",
      "Enter your choice: 2\n",
      "Enter your answer\n",
      "30-33 = -3\n",
      "Correct.\n",
      "Enter your choice: 5\n",
      "Exit the quiz.\n",
      "------------------------\n",
      "You answered 2 questions with 2 correct.\n",
      "Your score is 100.0%. Thank you.\n"
     ]
    }
   ],
   "source": [
    "def quiz_introduction():\n",
    "   print(\"*\" * 24)\n",
    "   print(\"** A Simple Math Quiz **\")\n",
    "   print(\"*\" * 24)\n",
    "\n",
    "def quiz_questions_init():\n",
    "   print(\"1. Addition\")\n",
    "   print(\"2. Subtraction\")\n",
    "   print(\"3. Multiplication\")\n",
    "   print(\"4. Integer Division\")\n",
    "   print(\"5. Exit\")\n",
    "\n",
    "def section_separator():\n",
    "# print \"---------------------\" to separate each section\n",
    "  print(\"-\" * 24)\n",
    "\n",
    "def get_user_question_choice():\n",
    "    val = int(input(\"Enter your choice: \"))\n",
    "    return val\n",
    "\n",
    "def quiz_questions(option, count):\n",
    "  import random\n",
    "  x1 = random.randint(1,99)\n",
    "  x2 = random.randint(1,99)\n",
    "  if option == 1:\n",
    "     problem = str(x1) + \"+\" + str(x2)\n",
    "     answ = x1 + x2\n",
    "  elif option == 2:\n",
    "     problem = str(x1) + \"-\" + str(x2)\n",
    "     answ = x1 - x2\n",
    "  elif option == 3:\n",
    "     problem = str(x1) + \"*\" + str(x2)\n",
    "     answ = x1 * x2\n",
    "  elif option == 4:\n",
    "     problem = str(x1) + \" // \" + str(x2)\n",
    "     answ = x1 // x2\n",
    "  user_answ = get_user_input_solution(problem)\n",
    "  res = solution_checking(user_answ, answ, count)\n",
    "  return res\n",
    "\n",
    "def get_user_input_solution(problem):\n",
    "  print(\"Enter your answer\")\n",
    "  print(problem, end=\"\")\n",
    "  result = int(input(\" = \"))\n",
    "  return result\n",
    "\n",
    "def show_result(total, correct):\n",
    "  print(f\"You answered {total} questions with {correct} correct.\")\n",
    "  print(f\"Your score is {round(correct*100/total,2)}%. Thank you.\")\n",
    "\n",
    "def solution_checking(user_solution, solution, count):\n",
    "    if int(user_solution) == int(solution):\n",
    "       res = count + 1\n",
    "       print(\"Correct.\")\n",
    "    else:\n",
    "       res = count\n",
    "       print(\"Wrong.\")\n",
    "    return res\n",
    "\n",
    "\n",
    "def main():\n",
    "  total = 0\n",
    "  correct = 0\n",
    "  quiz_introduction()\n",
    "  quiz_questions_init()\n",
    "  section_separator()\n",
    "  option = get_user_question_choice()\n",
    "  while option != 5:\n",
    "     total = total + 1\n",
    "     correct = quiz_questions(option, correct)\n",
    "     option = get_user_question_choice()\n",
    "  print(\"Exit the quiz.\")\n",
    "  section_separator()\n",
    "  show_result(total, correct)\n",
    "\n",
    "\n",
    "main()\n"
   ]
  }
 ],
 "metadata": {
  "kernelspec": {
   "display_name": "Python 3",
   "language": "python",
   "name": "python3"
  },
  "language_info": {
   "codemirror_mode": {
    "name": "ipython",
    "version": 3
   },
   "file_extension": ".py",
   "mimetype": "text/x-python",
   "name": "python",
   "nbconvert_exporter": "python",
   "pygments_lexer": "ipython3",
   "version": "3.7.3"
  }
 },
 "nbformat": 4,
 "nbformat_minor": 2
}
